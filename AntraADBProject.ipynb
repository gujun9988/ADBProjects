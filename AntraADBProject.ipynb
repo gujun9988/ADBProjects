{
 "cells": [
  {
   "cell_type": "code",
   "execution_count": 0,
   "metadata": {
    "application/vnd.databricks.v1+cell": {
     "cellMetadata": {
      "byteLimit": 2048000,
      "rowLimit": 10000
     },
     "inputWidgets": {},
     "nuid": "84debd11-f282-4f1e-9def-93d2c13f4324",
     "showTitle": false,
     "title": ""
    }
   },
   "outputs": [],
   "source": [
    "from pyspark.sql.functions import explode\n",
    "\n",
    "for i in range(0, 8):\n",
    "    filePath_0 = f\"dbfs:/FileStore/movie_{i}.json\"\n",
    "    movie_i = spark.read.option(\"multiline\", \"true\").option(\"inferSchema\", \"true\").json(filePath_0)\n",
    "    movie_i_e = movie_i.select(explode(movie_i['movie']).alias(\"movie_column\"))\n",
    "    movie_i_e = movie_i_e.selectExpr(\"movie_column.*\")\n",
    "    movie_i_e.write.format(\"delta\").mode(\"overwrite\").saveAsTable(f\"bronze_movie_{i}\")"
   ]
  },
  {
   "cell_type": "code",
   "execution_count": 0,
   "metadata": {
    "application/vnd.databricks.v1+cell": {
     "cellMetadata": {
      "byteLimit": 2048000,
      "implicitDf": true,
      "rowLimit": 10000
     },
     "inputWidgets": {},
     "nuid": "6a5ae2a7-371d-44e9-907b-dcc3e922f782",
     "showTitle": false,
     "title": ""
    }
   },
   "outputs": [
    {
     "output_type": "display_data",
     "data": {
      "text/html": [
       "<style scoped>\n",
       "  .table-result-container {\n",
       "    max-height: 300px;\n",
       "    overflow: auto;\n",
       "  }\n",
       "  table, th, td {\n",
       "    border: 1px solid black;\n",
       "    border-collapse: collapse;\n",
       "  }\n",
       "  th, td {\n",
       "    padding: 5px;\n",
       "  }\n",
       "  th {\n",
       "    text-align: left;\n",
       "  }\n",
       "</style><div class='table-result-container'><table class='table-result'><thead style='background-color: white'><tr><th>BackdropUrl</th><th>Budget</th><th>CreatedBy</th><th>CreatedDate</th><th>Id</th><th>ImdbUrl</th><th>OriginalLanguage</th><th>Overview</th><th>PosterUrl</th><th>Price</th><th>ReleaseDate</th><th>Revenue</th><th>RunTime</th><th>Tagline</th><th>Title</th><th>TmdbUrl</th><th>UpdatedBy</th><th>UpdatedDate</th><th>genres</th></tr></thead><tbody><tr><td>https://image.tmdb.org/t/p/original//s3TBrRGB1iav7gFOCNx3H31MoES.jpg</td><td>1.6E8</td><td>null</td><td>2021-04-03T16:51:30.1633333</td><td>1</td><td>https://www.imdb.com/title/tt1375666</td><td>en</td><td>Cobb, a skilled thief who commits corporate espionage by infiltrating the subconscious of his targets is offered a chance to regain his old life as payment for a task considered to be impossible: \"inception\", the implantation of another person's idea into a target's subconscious.</td><td>https://image.tmdb.org/t/p/w342//9gk7adHYeDvHkCSEqAvQNLV5Uge.jpg</td><td>9.9</td><td>2010-07-15T00:00:00</td><td>8.25532764E8</td><td>148</td><td>Your mind is the scene of the crime.</td><td>Inception</td><td>https://www.themoviedb.org/movie/27205</td><td>null</td><td>null</td><td>List(List(1, Adventure), List(6, Action), List(13, Science Fiction))</td></tr></tbody></table></div>"
      ]
     },
     "metadata": {
      "application/vnd.databricks.v1+output": {
       "addedWidgets": {},
       "aggData": [],
       "aggError": "",
       "aggOverflow": false,
       "aggSchema": [],
       "aggSeriesLimitReached": false,
       "aggType": "",
       "arguments": {},
       "columnCustomDisplayInfos": {},
       "data": [
        [
         "https://image.tmdb.org/t/p/original//s3TBrRGB1iav7gFOCNx3H31MoES.jpg",
         1.6E8,
         null,
         "2021-04-03T16:51:30.1633333",
         1,
         "https://www.imdb.com/title/tt1375666",
         "en",
         "Cobb, a skilled thief who commits corporate espionage by infiltrating the subconscious of his targets is offered a chance to regain his old life as payment for a task considered to be impossible: \"inception\", the implantation of another person's idea into a target's subconscious.",
         "https://image.tmdb.org/t/p/w342//9gk7adHYeDvHkCSEqAvQNLV5Uge.jpg",
         9.9,
         "2010-07-15T00:00:00",
         8.25532764E8,
         148,
         "Your mind is the scene of the crime.",
         "Inception",
         "https://www.themoviedb.org/movie/27205",
         null,
         null,
         [
          [
           1,
           "Adventure"
          ],
          [
           6,
           "Action"
          ],
          [
           13,
           "Science Fiction"
          ]
         ]
        ]
       ],
       "datasetInfos": [],
       "dbfsResultPath": null,
       "isJsonSchema": true,
       "metadata": {
        "dataframeName": "_sqldf",
        "executionCount": 62
       },
       "overflow": false,
       "plotOptions": {
        "customPlotOptions": {},
        "displayType": "table",
        "pivotAggregation": null,
        "pivotColumns": null,
        "xColumns": null,
        "yColumns": null
       },
       "removedWidgets": [],
       "schema": [
        {
         "metadata": "{}",
         "name": "BackdropUrl",
         "type": "\"string\""
        },
        {
         "metadata": "{}",
         "name": "Budget",
         "type": "\"double\""
        },
        {
         "metadata": "{}",
         "name": "CreatedBy",
         "type": "\"string\""
        },
        {
         "metadata": "{}",
         "name": "CreatedDate",
         "type": "\"string\""
        },
        {
         "metadata": "{}",
         "name": "Id",
         "type": "\"long\""
        },
        {
         "metadata": "{}",
         "name": "ImdbUrl",
         "type": "\"string\""
        },
        {
         "metadata": "{}",
         "name": "OriginalLanguage",
         "type": "\"string\""
        },
        {
         "metadata": "{}",
         "name": "Overview",
         "type": "\"string\""
        },
        {
         "metadata": "{}",
         "name": "PosterUrl",
         "type": "\"string\""
        },
        {
         "metadata": "{}",
         "name": "Price",
         "type": "\"double\""
        },
        {
         "metadata": "{}",
         "name": "ReleaseDate",
         "type": "\"string\""
        },
        {
         "metadata": "{}",
         "name": "Revenue",
         "type": "\"double\""
        },
        {
         "metadata": "{}",
         "name": "RunTime",
         "type": "\"long\""
        },
        {
         "metadata": "{}",
         "name": "Tagline",
         "type": "\"string\""
        },
        {
         "metadata": "{}",
         "name": "Title",
         "type": "\"string\""
        },
        {
         "metadata": "{}",
         "name": "TmdbUrl",
         "type": "\"string\""
        },
        {
         "metadata": "{}",
         "name": "UpdatedBy",
         "type": "\"string\""
        },
        {
         "metadata": "{}",
         "name": "UpdatedDate",
         "type": "\"string\""
        },
        {
         "metadata": "{}",
         "name": "genres",
         "type": "{\"type\":\"array\",\"elementType\":{\"type\":\"struct\",\"fields\":[{\"name\":\"id\",\"type\":\"long\",\"nullable\":true,\"metadata\":{}},{\"name\":\"name\",\"type\":\"string\",\"nullable\":true,\"metadata\":{}}]},\"containsNull\":true}"
        }
       ],
       "type": "table"
      }
     },
     "output_type": "display_data"
    }
   ],
   "source": [
    "%sql\n",
    "\n",
    "SELECT * FROM hive_metastore.default.bronze_movie_0 LIMIT 1"
   ]
  },
  {
   "cell_type": "code",
   "execution_count": 0,
   "metadata": {
    "application/vnd.databricks.v1+cell": {
     "cellMetadata": {
      "byteLimit": 2048000,
      "rowLimit": 10000
     },
     "inputWidgets": {},
     "nuid": "1b301b7c-a6de-4c7d-9e5d-d0251bb6ff1b",
     "showTitle": false,
     "title": ""
    }
   },
   "outputs": [],
   "source": [
    "# Move bronze tables to silver tables with multiple columns\n",
    "for i in range(0, 8):\n",
    "    column_names = spark.sql(f\"DESCRIBE bronze_movie_{i}\").select(\"col_name\").rdd.flatMap(lambda x: x).collect()\n",
    "    column_names_expr = \", \".join(column_names)\n",
    "    spark.sql(f\"CREATE TABLE IF NOT EXISTS silver_movie_{i} USING DELTA AS SELECT {column_names_expr} FROM bronze_movie_{i}\")"
   ]
  },
  {
   "cell_type": "code",
   "execution_count": 0,
   "metadata": {
    "application/vnd.databricks.v1+cell": {
     "cellMetadata": {
      "byteLimit": 2048000,
      "rowLimit": 10000
     },
     "inputWidgets": {},
     "nuid": "c3237474-891e-4073-9f50-23bc9d7d0adf",
     "showTitle": false,
     "title": ""
    }
   },
   "outputs": [
    {
     "output_type": "stream",
     "name": "stdout",
     "output_type": "stream",
     "text": [
      "+--------------------+\n|        movie_column|\n+--------------------+\n|{https://image.tm...|\n|{https://image.tm...|\n|{https://image.tm...|\n|{https://image.tm...|\n|{https://image.tm...|\n|{https://image.tm...|\n|{https://image.tm...|\n|{https://image.tm...|\n|{https://image.tm...|\n|{https://image.tm...|\n|{https://image.tm...|\n|{https://image.tm...|\n|{https://image.tm...|\n|{https://image.tm...|\n|{https://image.tm...|\n|{https://image.tm...|\n|{https://image.tm...|\n|{https://image.tm...|\n|{https://image.tm...|\n|{https://image.tm...|\n+--------------------+\nonly showing top 20 rows\n\n"
     ]
    }
   ],
   "source": [
    "# Show one of the silver tables\n",
    "spark.sql(\"SELECT * FROM silver_movie_0\").show()"
   ]
  },
  {
   "cell_type": "code",
   "execution_count": 0,
   "metadata": {
    "application/vnd.databricks.v1+cell": {
     "cellMetadata": {
      "byteLimit": 2048000,
      "implicitDf": true,
      "rowLimit": 10000
     },
     "inputWidgets": {},
     "nuid": "66fb2d5f-98bd-4664-a207-a5e9a979c24a",
     "showTitle": false,
     "title": ""
    }
   },
   "outputs": [
    {
     "output_type": "display_data",
     "data": {
      "text/html": [
       "<style scoped>\n",
       "  .table-result-container {\n",
       "    max-height: 300px;\n",
       "    overflow: auto;\n",
       "  }\n",
       "  table, th, td {\n",
       "    border: 1px solid black;\n",
       "    border-collapse: collapse;\n",
       "  }\n",
       "  th, td {\n",
       "    padding: 5px;\n",
       "  }\n",
       "  th {\n",
       "    text-align: left;\n",
       "  }\n",
       "</style><div class='table-result-container'><table class='table-result'><thead style='background-color: white'><tr><th>num_affected_rows</th></tr></thead><tbody><tr><td>2</td></tr></tbody></table></div>"
      ]
     },
     "metadata": {
      "application/vnd.databricks.v1+output": {
       "addedWidgets": {},
       "aggData": [],
       "aggError": "",
       "aggOverflow": false,
       "aggSchema": [],
       "aggSeriesLimitReached": false,
       "aggType": "",
       "arguments": {},
       "columnCustomDisplayInfos": {},
       "data": [
        [
         2
        ]
       ],
       "datasetInfos": [],
       "dbfsResultPath": null,
       "isJsonSchema": true,
       "metadata": {
        "dataframeName": "_sqldf",
        "executionCount": 66
       },
       "overflow": false,
       "plotOptions": {
        "customPlotOptions": {},
        "displayType": "table",
        "pivotAggregation": null,
        "pivotColumns": null,
        "xColumns": null,
        "yColumns": null
       },
       "removedWidgets": [],
       "schema": [
        {
         "metadata": "{}",
         "name": "num_affected_rows",
         "type": "\"long\""
        }
       ],
       "type": "table"
      }
     },
     "output_type": "display_data"
    }
   ],
   "source": [
    "%sql\n",
    "\n",
    "UPDATE hive_metastore.default.silver_movie_0\n",
    "SET movie_column.RunTime = 0\n",
    "WHERE movie_column.RunTime < 0;\n",
    "\n",
    "UPDATE hive_metastore.default.silver_movie_1\n",
    "SET movie_column.RunTime = 0\n",
    "WHERE movie_column.RunTime < 0;\n",
    "\n",
    "UPDATE hive_metastore.default.silver_movie_2\n",
    "SET movie_column.RunTime = 0\n",
    "WHERE movie_column.RunTime < 0;\n",
    "\n",
    "UPDATE hive_metastore.default.silver_movie_3\n",
    "SET movie_column.RunTime = 0\n",
    "WHERE movie_column.RunTime < 0;\n",
    "\n",
    "UPDATE hive_metastore.default.silver_movie_4\n",
    "SET movie_column.RunTime = 0\n",
    "WHERE movie_column.RunTime < 0;\n",
    "\n",
    "UPDATE hive_metastore.default.silver_movie_5\n",
    "SET movie_column.RunTime = 0\n",
    "WHERE movie_column.RunTime < 0;\n",
    "\n",
    "UPDATE hive_metastore.default.silver_movie_6\n",
    "SET movie_column.RunTime = 0\n",
    "WHERE movie_column.RunTime < 0;\n",
    "\n",
    "UPDATE hive_metastore.default.silver_movie_7\n",
    "SET movie_column.RunTime = 0\n",
    "WHERE movie_column.RunTime < 0;"
   ]
  },
  {
   "cell_type": "code",
   "execution_count": 0,
   "metadata": {
    "application/vnd.databricks.v1+cell": {
     "cellMetadata": {},
     "inputWidgets": {},
     "nuid": "d67c7043-9fb2-4cc1-adad-954acd885ffd",
     "showTitle": false,
     "title": ""
    }
   },
   "outputs": [],
   "source": []
  },
  {
   "cell_type": "code",
   "execution_count": 0,
   "metadata": {
    "application/vnd.databricks.v1+cell": {
     "cellMetadata": {
      "byteLimit": 2048000,
      "rowLimit": 10000
     },
     "inputWidgets": {},
     "nuid": "15b240d1-bc2b-4759-9108-5dc721fcb562",
     "showTitle": false,
     "title": ""
    }
   },
   "outputs": [
    {
     "output_type": "stream",
     "name": "stdout",
     "output_type": "stream",
     "text": [
      "+------------+--------------------+-------+\n|    col_name|           data_type|comment|\n+------------+--------------------+-------+\n|movie_column|struct<BackdropUr...|   NULL|\n+------------+--------------------+-------+\n\n"
     ]
    }
   ],
   "source": [
    "# Show silver table silver_movie_0 with column names\n",
    "spark.sql(\"DESCRIBE silver_movie_0\").show()"
   ]
  },
  {
   "cell_type": "code",
   "execution_count": 0,
   "metadata": {
    "application/vnd.databricks.v1+cell": {
     "cellMetadata": {},
     "inputWidgets": {},
     "nuid": "5a783485-7608-41d5-8a35-2b1f49bab6d3",
     "showTitle": false,
     "title": ""
    }
   },
   "outputs": [],
   "source": []
  }
 ],
 "metadata": {
  "application/vnd.databricks.v1+notebook": {
   "dashboards": [],
   "environmentMetadata": null,
   "language": "python",
   "notebookMetadata": {
    "mostRecentlyExecutedCommandWithImplicitDF": {
     "commandId": 990992338501485,
     "dataframes": [
      "_sqldf"
     ]
    },
    "pythonIndentUnit": 4
   },
   "notebookName": "AntraADBProject",
   "widgets": {}
  }
 },
 "nbformat": 4,
 "nbformat_minor": 0
}
