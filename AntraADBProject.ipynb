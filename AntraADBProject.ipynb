{
 "cells": [
  {
   "cell_type": "code",
   "execution_count": 0,
   "metadata": {
    "application/vnd.databricks.v1+cell": {
     "cellMetadata": {
      "byteLimit": 2048000,
      "rowLimit": 10000
     },
     "inputWidgets": {},
     "nuid": "d08af2dc-971a-4cac-8e29-ae54f666cbe1",
     "showTitle": false,
     "title": ""
    }
   },
   "outputs": [],
   "source": [
    "from pyspark.sql.functions import abs\n",
    "from pyspark.sql.types import StringType, DoubleType, StructField, StructType, TimestampType, ArrayType, LongType\n",
    "from pyspark.sql import SparkSession\n",
    "from pyspark.sql.functions import row_number, col, desc, explode, when, trim\n",
    "from pyspark.sql.window import Window\n",
    "from pyspark.sql.functions import to_timestamp"
   ]
  },
  {
   "cell_type": "code",
   "execution_count": 0,
   "metadata": {
    "application/vnd.databricks.v1+cell": {
     "cellMetadata": {
      "byteLimit": 2048000,
      "rowLimit": 10000
     },
     "inputWidgets": {},
     "nuid": "84debd11-f282-4f1e-9def-93d2c13f4324",
     "showTitle": false,
     "title": ""
    }
   },
   "outputs": [],
   "source": [
    "# Combine and load multiple JSON files\n",
    "combined_df = None\n",
    "for i in range(0, 8):\n",
    "    file_path = f\"dbfs:/FileStore/movie_{i}.json\"\n",
    "    df = spark.read.option(\"multiline\", \"true\").option(\"inferSchema\", \"true\").json(file_path)\n",
    "    if combined_df is None:\n",
    "        combined_df = df\n",
    "    else:\n",
    "        combined_df = combined_df.union(df)\n",
    "\n",
    "combined_df.write.format(\"delta\").mode(\"overwrite\").saveAsTable(\"combined_movies\")"
   ]
  },
  {
   "cell_type": "code",
   "execution_count": 0,
   "metadata": {
    "application/vnd.databricks.v1+cell": {
     "cellMetadata": {
      "byteLimit": 2048000,
      "rowLimit": 10000
     },
     "inputWidgets": {},
     "nuid": "5ce41279-6634-4542-8a4f-71f6010ff03e",
     "showTitle": false,
     "title": ""
    }
   },
   "outputs": [],
   "source": [
    "# Combine and load multiple JSON files\n",
    "combined_df = None\n",
    "for i in range(0, 8):\n",
    "    file_path = f\"dbfs:/FileStore/movie_{i}.json\"\n",
    "    df = spark.read.option(\"multiline\", \"true\").option(\"inferSchema\", \"true\").json(file_path)\n",
    "    if combined_df is None:\n",
    "        combined_df = df\n",
    "    else:\n",
    "        combined_df = combined_df.union(df)\n",
    "\n",
    "# Run JSON files to bronze tables\n",
    "movies_df = combined_df.select(explode(combined_df['movie']).alias(\"movie_column\"))\n",
    "movies_df = movies_df.selectExpr(\"movie_column.*\")\n",
    "movies_df.write.format(\"delta\").mode(\"overwrite\").saveAsTable(f\"bronze_movies\")"
   ]
  },
  {
   "cell_type": "code",
   "execution_count": 0,
   "metadata": {
    "application/vnd.databricks.v1+cell": {
     "cellMetadata": {
      "byteLimit": 2048000,
      "implicitDf": true,
      "rowLimit": 10000
     },
     "inputWidgets": {},
     "nuid": "6a5ae2a7-371d-44e9-907b-dcc3e922f782",
     "showTitle": false,
     "title": ""
    }
   },
   "outputs": [
    {
     "output_type": "display_data",
     "data": {
      "text/html": [
       "<style scoped>\n",
       "  .table-result-container {\n",
       "    max-height: 300px;\n",
       "    overflow: auto;\n",
       "  }\n",
       "  table, th, td {\n",
       "    border: 1px solid black;\n",
       "    border-collapse: collapse;\n",
       "  }\n",
       "  th, td {\n",
       "    padding: 5px;\n",
       "  }\n",
       "  th {\n",
       "    text-align: left;\n",
       "  }\n",
       "</style><div class='table-result-container'><table class='table-result'><thead style='background-color: white'><tr><th>BackdropUrl</th><th>Budget</th><th>CreatedBy</th><th>CreatedDate</th><th>Id</th><th>ImdbUrl</th><th>OriginalLanguage</th><th>Overview</th><th>PosterUrl</th><th>Price</th><th>ReleaseDate</th><th>Revenue</th><th>RunTime</th><th>Tagline</th><th>Title</th><th>TmdbUrl</th><th>UpdatedBy</th><th>UpdatedDate</th><th>genres</th></tr></thead><tbody><tr><td>https://image.tmdb.org/t/p/original//s3TBrRGB1iav7gFOCNx3H31MoES.jpg</td><td>1.6E8</td><td>null</td><td>2021-04-03T16:51:30.1633333</td><td>1</td><td>https://www.imdb.com/title/tt1375666</td><td>en</td><td>Cobb, a skilled thief who commits corporate espionage by infiltrating the subconscious of his targets is offered a chance to regain his old life as payment for a task considered to be impossible: \"inception\", the implantation of another person's idea into a target's subconscious.</td><td>https://image.tmdb.org/t/p/w342//9gk7adHYeDvHkCSEqAvQNLV5Uge.jpg</td><td>9.9</td><td>2010-07-15T00:00:00</td><td>8.25532764E8</td><td>148</td><td>Your mind is the scene of the crime.</td><td>Inception</td><td>https://www.themoviedb.org/movie/27205</td><td>null</td><td>null</td><td>List(List(1, Adventure), List(6, Action), List(13, Science Fiction))</td></tr></tbody></table></div>"
      ]
     },
     "metadata": {
      "application/vnd.databricks.v1+output": {
       "addedWidgets": {},
       "aggData": [],
       "aggError": "",
       "aggOverflow": false,
       "aggSchema": [],
       "aggSeriesLimitReached": false,
       "aggType": "",
       "arguments": {},
       "columnCustomDisplayInfos": {},
       "data": [
        [
         "https://image.tmdb.org/t/p/original//s3TBrRGB1iav7gFOCNx3H31MoES.jpg",
         1.6E8,
         null,
         "2021-04-03T16:51:30.1633333",
         1,
         "https://www.imdb.com/title/tt1375666",
         "en",
         "Cobb, a skilled thief who commits corporate espionage by infiltrating the subconscious of his targets is offered a chance to regain his old life as payment for a task considered to be impossible: \"inception\", the implantation of another person's idea into a target's subconscious.",
         "https://image.tmdb.org/t/p/w342//9gk7adHYeDvHkCSEqAvQNLV5Uge.jpg",
         9.9,
         "2010-07-15T00:00:00",
         8.25532764E8,
         148,
         "Your mind is the scene of the crime.",
         "Inception",
         "https://www.themoviedb.org/movie/27205",
         null,
         null,
         [
          [
           1,
           "Adventure"
          ],
          [
           6,
           "Action"
          ],
          [
           13,
           "Science Fiction"
          ]
         ]
        ]
       ],
       "datasetInfos": [],
       "dbfsResultPath": null,
       "isJsonSchema": true,
       "metadata": {
        "dataframeName": "_sqldf",
        "executionCount": 6
       },
       "overflow": false,
       "plotOptions": {
        "customPlotOptions": {},
        "displayType": "table",
        "pivotAggregation": null,
        "pivotColumns": null,
        "xColumns": null,
        "yColumns": null
       },
       "removedWidgets": [],
       "schema": [
        {
         "metadata": "{}",
         "name": "BackdropUrl",
         "type": "\"string\""
        },
        {
         "metadata": "{}",
         "name": "Budget",
         "type": "\"double\""
        },
        {
         "metadata": "{}",
         "name": "CreatedBy",
         "type": "\"string\""
        },
        {
         "metadata": "{}",
         "name": "CreatedDate",
         "type": "\"string\""
        },
        {
         "metadata": "{}",
         "name": "Id",
         "type": "\"long\""
        },
        {
         "metadata": "{}",
         "name": "ImdbUrl",
         "type": "\"string\""
        },
        {
         "metadata": "{}",
         "name": "OriginalLanguage",
         "type": "\"string\""
        },
        {
         "metadata": "{}",
         "name": "Overview",
         "type": "\"string\""
        },
        {
         "metadata": "{}",
         "name": "PosterUrl",
         "type": "\"string\""
        },
        {
         "metadata": "{}",
         "name": "Price",
         "type": "\"double\""
        },
        {
         "metadata": "{}",
         "name": "ReleaseDate",
         "type": "\"string\""
        },
        {
         "metadata": "{}",
         "name": "Revenue",
         "type": "\"double\""
        },
        {
         "metadata": "{}",
         "name": "RunTime",
         "type": "\"long\""
        },
        {
         "metadata": "{}",
         "name": "Tagline",
         "type": "\"string\""
        },
        {
         "metadata": "{}",
         "name": "Title",
         "type": "\"string\""
        },
        {
         "metadata": "{}",
         "name": "TmdbUrl",
         "type": "\"string\""
        },
        {
         "metadata": "{}",
         "name": "UpdatedBy",
         "type": "\"string\""
        },
        {
         "metadata": "{}",
         "name": "UpdatedDate",
         "type": "\"string\""
        },
        {
         "metadata": "{}",
         "name": "genres",
         "type": "{\"type\":\"array\",\"elementType\":{\"type\":\"struct\",\"fields\":[{\"name\":\"id\",\"type\":\"long\",\"nullable\":true,\"metadata\":{}},{\"name\":\"name\",\"type\":\"string\",\"nullable\":true,\"metadata\":{}}]},\"containsNull\":true}"
        }
       ],
       "type": "table"
      }
     },
     "output_type": "display_data"
    }
   ],
   "source": [
    "%sql\n",
    "\n",
    "SELECT * FROM hive_metastore.default.bronze_movies LIMIT 1"
   ]
  },
  {
   "cell_type": "code",
   "execution_count": 0,
   "metadata": {
    "application/vnd.databricks.v1+cell": {
     "cellMetadata": {
      "byteLimit": 2048000,
      "rowLimit": 10000
     },
     "inputWidgets": {},
     "nuid": "b01c0631-8cf2-48cc-aaa1-3f4a763097bf",
     "showTitle": false,
     "title": ""
    }
   },
   "outputs": [],
   "source": [
    "# Data cleaning about negative runtime\n",
    "bronze_df = spark.table(\"bronze_movies\")\n",
    "bronze_df = bronze_df.withColumn('RunTime', abs(bronze_df['RunTime']))"
   ]
  },
  {
   "cell_type": "code",
   "execution_count": 0,
   "metadata": {
    "application/vnd.databricks.v1+cell": {
     "cellMetadata": {
      "byteLimit": 2048000,
      "rowLimit": 10000
     },
     "inputWidgets": {},
     "nuid": "b52314aa-1c34-42d3-98a3-1ba342bed60a",
     "showTitle": false,
     "title": ""
    }
   },
   "outputs": [
    {
     "output_type": "stream",
     "name": "stdout",
     "output_type": "stream",
     "text": [
      "+--------------------+\n|               genre|\n+--------------------+\n|[{1, Adventure}, ...|\n|[{2, Fantasy}, {7...|\n|[{1, Adventure}, ...|\n|[{6, Action}, {7,...|\n|[{5, Horror}, {6,...|\n|[{1, Adventure}, ...|\n|[{4, Drama}, {7, ...|\n|[{1, Adventure}, ...|\n|[{4, Drama}, {8, ...|\n|[{1, Adventure}, ...|\n|[{1, Adventure}, ...|\n|[{2, Fantasy}, {7...|\n|        [{4, Drama}]|\n|[{1, Adventure}, ...|\n|[{1, Adventure}, ...|\n|[{4, Drama}, {5, ...|\n|[{1, Adventure}, ...|\n|[{1, Adventure}, ...|\n|[{1, Adventure}, ...|\n|[{10, Thriller}, ...|\n+--------------------+\nonly showing top 20 rows\n\n"
     ]
    }
   ],
   "source": [
    "# Create a lookup junction table with only the 'genres' column from bronze_df\n",
    "windowSpec = Window.orderBy(\"genres\")\n",
    "genres_df = bronze_df.select('genres').distinct().withColumnRenamed('genres', 'genre')\n",
    "\n",
    "# Show the lookup junction table\n",
    "genres_df.show()\n",
    "\n",
    "# Save genres_df as a silver table\n",
    "genres_df.write.format(\"delta\").mode(\"overwrite\").saveAsTable(\"silver_genres\")"
   ]
  },
  {
   "cell_type": "code",
   "execution_count": 0,
   "metadata": {
    "application/vnd.databricks.v1+cell": {
     "cellMetadata": {
      "byteLimit": 2048000,
      "rowLimit": 10000
     },
     "inputWidgets": {},
     "nuid": "49a1c86f-43e9-4259-89ba-785b6671c5ab",
     "showTitle": false,
     "title": ""
    }
   },
   "outputs": [],
   "source": [
    "from pyspark.sql.functions import lit\n",
    "\n",
    "bronze_df = bronze_df.dropDuplicates(['Id'])\n",
    "bronze_df = bronze_df.withColumn('status', lit('new'))"
   ]
  },
  {
   "cell_type": "code",
   "execution_count": 0,
   "metadata": {
    "application/vnd.databricks.v1+cell": {
     "cellMetadata": {
      "byteLimit": 2048000,
      "rowLimit": 10000
     },
     "inputWidgets": {},
     "nuid": "1b301b7c-a6de-4c7d-9e5d-d0251bb6ff1b",
     "showTitle": false,
     "title": ""
    }
   },
   "outputs": [
    {
     "output_type": "execute_result",
     "data": {
      "text/plain": [
       "DataFrame[num_affected_rows: bigint, num_inserted_rows: bigint]"
      ]
     },
     "execution_count": 28,
     "metadata": {},
     "output_type": "execute_result"
    }
   ],
   "source": [
    "# Move bronze_df to silver table\n",
    "bronze_df.write.format(\"delta\").mode(\"overwrite\").saveAsTable(\"silver_movie\")\n",
    "\n",
    "# Get column names from bronze_df\n",
    "column_names = bronze_df.columns\n",
    "\n",
    "# Create a comma-separated string of column names\n",
    "column_names_expr = \", \".join(column_names)\n",
    "\n",
    "# Create a new silver table using the column names from bronze_df\n",
    "spark.sql(f\"CREATE TABLE IF NOT EXISTS silver_movie_0 USING DELTA AS SELECT {column_names_expr} FROM silver_movie\")"
   ]
  },
  {
   "cell_type": "code",
   "execution_count": 0,
   "metadata": {
    "application/vnd.databricks.v1+cell": {
     "cellMetadata": {
      "byteLimit": 2048000,
      "rowLimit": 10000
     },
     "inputWidgets": {},
     "nuid": "c3237474-891e-4073-9f50-23bc9d7d0adf",
     "showTitle": false,
     "title": ""
    }
   },
   "outputs": [
    {
     "output_type": "stream",
     "name": "stdout",
     "output_type": "stream",
     "text": [
      "+--------------------+---------+---------+--------------------+---+--------------------+----------------+--------------------+--------------------+-----+-------------------+-------------+-------+--------------------+--------------------+--------------------+---------+-----------+--------------------+------+\n|         BackdropUrl|   Budget|CreatedBy|         CreatedDate| Id|             ImdbUrl|OriginalLanguage|            Overview|           PosterUrl|Price|        ReleaseDate|      Revenue|RunTime|             Tagline|               Title|             TmdbUrl|UpdatedBy|UpdatedDate|              genres|status|\n+--------------------+---------+---------+--------------------+---+--------------------+----------------+--------------------+--------------------+-----+-------------------+-------------+-------+--------------------+--------------------+--------------------+---------+-----------+--------------------+------+\n|https://image.tmd...|   2.37E8|     NULL|2021-04-03T16:51:...|  6|https://www.imdb....|              en|In the 22nd centu...|https://image.tmd...|  9.9|2009-12-10T00:00:00|2.787965087E9|    162|Enter the World o...|              Avatar|https://www.themo...|     NULL|       NULL|[{1, Adventure}, ...|   new|\n|https://image.tmd...|    1.7E8|     NULL|2021-04-03T16:51:...|  7|https://www.imdb....|              en|Light years from ...|https://image.tmd...|  9.9|2014-07-30T00:00:00|   7.727766E8|    121|All heroes start ...|Guardians of the ...|https://www.themo...|     NULL|       NULL|[{1, Adventure}, ...|   new|\n|https://image.tmd...|    1.5E8|     NULL|2021-04-03T16:51:...| 19|https://www.imdb....|              en|An apocalyptic st...|https://image.tmd...|  9.9|2015-05-13T00:00:00|  3.7885834E8|    121|  What a Lovely Day.|  Mad Max: Fury Road|https://www.themo...|     NULL|       NULL|[{1, Adventure}, ...|   new|\n|https://image.tmd...|    2.5E8|     NULL|2021-04-03T16:51:...| 22|https://www.imdb....|              en|Following the dea...|https://image.tmd...|  9.9|2012-07-16T00:00:00|1.081041287E9|    165|     The Legend Ends|The Dark Knight R...|https://www.themo...|     NULL|       NULL|[{4, Drama}, {6, ...|   new|\n|https://image.tmd...|    8.0E7|     NULL|2021-04-03T16:51:...| 25|https://www.imdb....|              en|World War II sold...|https://image.tmd...|  9.9|2010-02-14T00:00:00|      2.948E8|    138|  Someone is missing|      Shutter Island|https://www.themo...|     NULL|       NULL|[{4, Drama}, {10,...|   new|\n|https://image.tmd...|    9.4E7|     NULL|2021-04-03T16:51:...| 26|https://www.imdb....|              en|Aragorn is reveal...|https://image.tmd...|  9.9|2003-12-01T00:00:00|1.118888979E9|    201|The eye of the en...|The Lord of the R...|https://www.themo...|     NULL|       NULL|[{1, Adventure}, ...|   new|\n|https://image.tmd...|   3.56E8|     NULL|2021-04-03T16:51:...| 29|https://www.imdb....|              en|After the devasta...|https://image.tmd...|  9.9|2019-04-24T00:00:00|2.797800564E9|    181|Part of the journ...|   Avengers: Endgame|https://www.themo...|     NULL|       NULL|[{1, Adventure}, ...|   new|\n|https://image.tmd...|    5.5E7|     NULL|2021-04-03T16:51:...| 31|https://www.imdb....|              en|During the 1980s,...|https://image.tmd...|  9.9|2019-10-02T00:00:00|1.074251311E9|    122|Put on a happy face.|               Joker|https://www.themo...|     NULL|       NULL|[{4, Drama}, {10,...|   new|\n|https://image.tmd...|    1.5E8|     NULL|2021-04-03T16:51:...| 32|https://www.imdb....|              en|Twenty-two years ...|https://image.tmd...|  9.9|2015-06-06T00:00:00|1.671713208E9|    124|   The park is open.|      Jurassic World|https://www.themo...|     NULL|       NULL|[{1, Adventure}, ...|   new|\n|https://image.tmd...|    7.0E7|     NULL|2021-04-03T16:51:...| 34|https://www.imdb....|              en|In Nazi-occupied ...|https://image.tmd...|  9.9|2009-08-18T00:00:00| 3.21455689E8|    153|Once upon a time ...|Inglourious Basterds|https://www.themo...|     NULL|       NULL|[{4, Drama}, {6, ...|   new|\n|https://image.tmd...|    1.5E8|     NULL|2021-04-03T16:51:...| 39|https://www.imdb....|              en|Against his fathe...|https://image.tmd...|  9.9|2011-04-21T00:00:00| 4.49326618E8|    115|Two worlds. One h...|                Thor|https://www.themo...|     NULL|       NULL|[{1, Adventure}, ...|   new|\n|https://image.tmd...|    1.3E8|     NULL|2021-04-03T16:51:...| 43|https://www.imdb....|              en|Harry, Ron and He...|https://image.tmd...|  9.9|2004-05-31T00:00:00| 7.89804554E8|    141|Something wicked ...|Harry Potter and ...|https://www.themo...|     NULL|       NULL|[{1, Adventure}, ...|   new|\n|https://image.tmd...|    9.7E7|     NULL|2021-04-03T16:51:...| 50|https://www.imdb....|              en|In the near futur...|https://image.tmd...|  9.9|2017-02-28T00:00:00| 6.19021436E8|    137|   His time has come|               Logan|https://www.themo...|     NULL|       NULL|[{4, Drama}, {6, ...|   new|\n|https://image.tmd...|    1.3E8|     NULL|2021-04-03T16:51:...| 54|https://www.imdb....|              en|Armed with the as...|https://image.tmd...|  9.9|2015-07-14T00:00:00| 5.19311965E8|    117|Heroes don't get ...|             Ant-Man|https://www.themo...|     NULL|       NULL|[{1, Adventure}, ...|   new|\n|https://image.tmd...|    3.5E7|     NULL|2021-04-03T16:51:...| 57|https://www.imdb....|              en|In a small town i...|https://image.tmd...|  9.9|2017-09-06T00:00:00| 7.01796444E8|    135|Your fears are un...|                  It|https://www.themo...|     NULL|       NULL|       [{5, Horror}]|   new|\n|https://image.tmd...|    3.3E7|     NULL|2021-04-03T16:51:...| 58|https://www.imdb....|              en|Two homicide dete...|https://image.tmd...|  9.9|1995-09-22T00:00:00| 3.27311859E8|    127|Seven deadly sins...|               Se7en|https://www.themo...|     NULL|       NULL|[{10, Thriller}, ...|   new|\n|https://image.tmd...|    2.5E8|     NULL|2021-04-03T16:51:...| 65|https://www.imdb....|              en|Harry, Ron and He...|https://image.tmd...|  9.9|2010-10-17T00:00:00| 9.54305868E8|    146|One Way… One Fate...|Harry Potter and ...|https://www.themo...|     NULL|       NULL|[{1, Adventure}, ...|   new|\n|https://image.tmd...|    1.8E8|     NULL|2021-04-03T16:51:...| 68|https://www.imdb....|              en|WALL·E is the las...|https://image.tmd...|  9.9|2008-06-22T00:00:00|  5.2131186E8|     98|After 700 years o...|              WALL·E|https://www.themo...|     NULL|       NULL|[{3, Animation}, ...|   new|\n|https://image.tmd...|6000000.0|     NULL|2021-04-03T16:51:...| 71|https://www.imdb....|              en|Spanning the year...|https://image.tmd...|  9.9|1972-03-14T00:00:00| 2.45066411E8|    175|An offer you can'...|       The Godfather|https://www.themo...|     NULL|       NULL|[{4, Drama}, {11,...|   new|\n|https://image.tmd...|   1.15E8|     NULL|2021-04-03T16:51:...| 72|https://www.imdb....|              en|James Sullivan an...|https://image.tmd...|  9.9|2001-11-01T00:00:00| 5.62816256E8|     92|We Scare Because ...|      Monsters, Inc.|https://www.themo...|     NULL|       NULL|[{3, Animation}, ...|   new|\n+--------------------+---------+---------+--------------------+---+--------------------+----------------+--------------------+--------------------+-----+-------------------+-------------+-------+--------------------+--------------------+--------------------+---------+-----------+--------------------+------+\nonly showing top 20 rows\n\n"
     ]
    }
   ],
   "source": [
    "# Show silver table silver_movie\n",
    "spark.sql(\"SELECT * FROM silver_movie\").show()"
   ]
  },
  {
   "cell_type": "code",
   "execution_count": 0,
   "metadata": {
    "application/vnd.databricks.v1+cell": {
     "cellMetadata": {},
     "inputWidgets": {},
     "nuid": "5a783485-7608-41d5-8a35-2b1f49bab6d3",
     "showTitle": false,
     "title": ""
    }
   },
   "outputs": [],
   "source": []
  }
 ],
 "metadata": {
  "application/vnd.databricks.v1+notebook": {
   "dashboards": [],
   "environmentMetadata": null,
   "language": "python",
   "notebookMetadata": {
    "mostRecentlyExecutedCommandWithImplicitDF": {
     "commandId": 990992338501478,
     "dataframes": [
      "_sqldf"
     ]
    },
    "pythonIndentUnit": 4
   },
   "notebookName": "AntraADBProject",
   "widgets": {}
  }
 },
 "nbformat": 4,
 "nbformat_minor": 0
}
